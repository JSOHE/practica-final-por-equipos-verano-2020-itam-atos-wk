{
 "cells": [
  {
   "cell_type": "markdown",
   "metadata": {},
   "source": [
    "Hacer una introducción en donde ser explique sobre:\n",
    "-\tLa base de datos que trabajaste\n",
    "-\tLa fuente de información donde se extrajo\n",
    "-\tLa temporalidad y geografía (la fecha de los delitos registrados en la base de datos si es anual, trimestral, mensual, etc. y la ubicación que supongo que es CDMX y que se tiene a nivel de alcaldía)\n",
    "Comenzar con el análisis podrías decir si es que hubo alguna depuración en la base de datos y si hubo registros en blanco si es que aplicaron un método para tratar los vacíos.\n",
    "Lo que veo que tienes 3 enfoques:\n",
    "1.\tAnálisis por categoría de delito\n",
    "2.\tAnálisis del número de delitos por alcaldía\n",
    "3.\tAnálisis del número de delitos por mes y por año\n",
    "Y con esos 3 enfoques hacer conclusiones sobre:\n",
    "1.\tCual fue el tipo de delito que más se cometió sin distinguir la geografía\n",
    "2.\tQue alcaldías tiene una mayor inseguridad\n",
    "3.\tY en que año y mes se tuvo el registro máximo de delitos \n",
    "Que los resultados están en las tablas que tienes en tu código \n",
    "Y con las gráficas se pueden hacer conclusiones mixtas:\n",
    "1.\tQue año y mes fue el que registro más delitos (sin distinción de categoría del delito)\n",
    "2.\tQue alcaldía fue más insegura en el año X y con el tipo de delito Y\n",
    "3.\tEn que alcaldías se reportaron más delitos del tipo X en el mes Y del año Z\n",
    "Algo así se me ocurre"
   ]
  },
  {
   "cell_type": "markdown",
   "metadata": {},
   "source": [
    "# Reporte: Análisis de incidencia delictiva en la Ciudad de México mediante series de tiempo y análisis bayesiano"
   ]
  },
  {
   "cell_type": "markdown",
   "metadata": {},
   "source": [
    "A continuación se expone lo realizado para la elaboración de la presente práctica, así como los resultados obtenidos."
   ]
  },
  {
   "cell_type": "markdown",
   "metadata": {},
   "source": [
    "## Sobre las fuentes de información"
   ]
  },
  {
   "cell_type": "markdown",
   "metadata": {},
   "source": [
    "La información utilizada en el presente trabajo se obtuvo de tres fuentes:\n",
    "* [Portal de datos de la Ciudad de México](https://datos.cdmx.gob.mx).\n",
    "* [Instituto Nacional de Estadística y Geografía (INEGI)](https://www.inegi.org.mx).\n",
    "* [Consejo Nacional de Población (CONAPO)](https://www.gob.mx/conapo)."
   ]
  },
  {
   "cell_type": "markdown",
   "metadata": {},
   "source": [
    "## Sobre los datos"
   ]
  },
  {
   "cell_type": "markdown",
   "metadata": {},
   "source": [
    "La información sobre los delitos denunciados se obtuvieron del portal de __[Datos Abiertos](https://datos.cdmx.gob.mx/explore/dataset/carpetas-de-investigacion-pgj-cdmx/export/)__ de la Ciudad de México, mientras que la información relativa al índice de marginación, y variables utilizadas para su construcción, se obtuvo del __[CONAPO](http://www.conapo.gob.mx/es/CONAPO/Datos_Abiertos_del_Indice_de_Marginacion)__. Por último la información referente al tamaño de la población fue consultada en el portal del __[INEGI](https://www.inegi.org.mx/programas/ccpv/2010/default.html#Tabulados)__.\n",
    "\n",
    "Esta información está contenida en los archivos:\n",
    "* [datos_delitos.rds](datos_delitos.rds). Contiene las denunias hechas por día desde enero de 2017 hasta junio de 2019.\n",
    "* [Base_Indice_de_marginacion_municipal.csv](Base_Indice_de_marginacion_municipal.csv). Contiene el índice de marginación (_IM_) y algunas de las variables utlizadas para su construcción.\n",
    "* [datos_pob.csvdatos_pob.csv](datos_pob.csv). Contiene información sobre el tamaño de la población de la Ciudad de México por alcaldía, incluye información desagregada por género."
   ]
  },
  {
   "cell_type": "markdown",
   "metadata": {},
   "source": [
    "## Alcance del proyecto"
   ]
  },
  {
   "cell_type": "markdown",
   "metadata": {},
   "source": [
    "Usando los datos proporcionados por la Secretaría de Seguridad Ciudadana de la Ciudad de México, se realiza un análisis de series de tiempo para conocer el comportamiento, frecuencia y patrón de ocurrencia de delitos en la Ciudad de México. A través de este estudio se logra identificar los días en los que se reportan más delitos. Se observa la cantidad de delitos en cada una de las alcaldías de la Ciudad y se realiza un análisis de correlación entre la cantidad poblacional en cada alcaldía y el volumen de delitos reportados.\n",
    "\n",
    "Adicionalmente, se realiza un análisis bayesiano que tiene por objetivo"
   ]
  },
  {
   "cell_type": "markdown",
   "metadata": {},
   "source": [
    "## Análisis descriptivo"
   ]
  },
  {
   "cell_type": "markdown",
   "metadata": {},
   "source": [
    "## Inferencia"
   ]
  },
  {
   "cell_type": "markdown",
   "metadata": {},
   "source": [
    "## Conclusiones"
   ]
  }
 ],
 "metadata": {
  "kernelspec": {
   "display_name": "R",
   "language": "R",
   "name": "ir"
  },
  "language_info": {
   "codemirror_mode": "r",
   "file_extension": ".r",
   "mimetype": "text/x-r-source",
   "name": "R",
   "pygments_lexer": "r",
   "version": "3.6.3"
  }
 },
 "nbformat": 4,
 "nbformat_minor": 4
}
