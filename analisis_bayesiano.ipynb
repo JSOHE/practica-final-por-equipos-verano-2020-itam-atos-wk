{
 "cells": [
  {
   "cell_type": "code",
   "execution_count": 1,
   "metadata": {},
   "outputs": [
    {
     "name": "stderr",
     "output_type": "stream",
     "text": [
      "── \u001b[1mAttaching packages\u001b[22m ─────────────────────────────────────── tidyverse 1.3.0 ──\n",
      "\n",
      "\u001b[32m✔\u001b[39m \u001b[34mggplot2\u001b[39m 3.3.1     \u001b[32m✔\u001b[39m \u001b[34mpurrr  \u001b[39m 0.3.4\n",
      "\u001b[32m✔\u001b[39m \u001b[34mtibble \u001b[39m 3.0.1     \u001b[32m✔\u001b[39m \u001b[34mdplyr  \u001b[39m 1.0.0\n",
      "\u001b[32m✔\u001b[39m \u001b[34mtidyr  \u001b[39m 1.1.0     \u001b[32m✔\u001b[39m \u001b[34mstringr\u001b[39m 1.4.0\n",
      "\u001b[32m✔\u001b[39m \u001b[34mreadr  \u001b[39m 1.3.1     \u001b[32m✔\u001b[39m \u001b[34mforcats\u001b[39m 0.5.0\n",
      "\n",
      "── \u001b[1mConflicts\u001b[22m ────────────────────────────────────────── tidyverse_conflicts() ──\n",
      "\u001b[31m✖\u001b[39m \u001b[34mdplyr\u001b[39m::\u001b[32mfilter()\u001b[39m masks \u001b[34mstats\u001b[39m::filter()\n",
      "\u001b[31m✖\u001b[39m \u001b[34mdplyr\u001b[39m::\u001b[32mlag()\u001b[39m    masks \u001b[34mstats\u001b[39m::lag()\n",
      "\n"
     ]
    }
   ],
   "source": [
    "library(tidyverse)"
   ]
  },
  {
   "cell_type": "code",
   "execution_count": 175,
   "metadata": {},
   "outputs": [],
   "source": [
    "months <- c('January','February','March','April','May','June','July','August','September','October','November','December')\n",
    "\n",
    "delitos <- readRDS('datos_delitos.rds') %>%\n",
    "    mutate(categoria_delito = factor(categoria_delito),\n",
    "           alcaldia_hechos = factor(alcaldia_hechos),\n",
    "           año = factor(format(fecha_hechos,'%Y')),\n",
    "           mes = factor(format(fecha_hechos,'%B'), level = months),\n",
    "           CVE_MUN = case_when(\n",
    "               alcaldia_hechos == 'ALVARO OBREGON' ~ 9010,\n",
    "               alcaldia_hechos == 'AZCAPOTZALCO' ~ 9002,\n",
    "               alcaldia_hechos == 'BENITO JUAREZ' ~ 9014,\n",
    "               alcaldia_hechos == 'COYOACAN' ~ 9003,\n",
    "               alcaldia_hechos == 'CUAJIMALPA DE MORELOS' ~ 9004,\n",
    "               alcaldia_hechos == 'CUAUHTEMOC' ~ 9015,\n",
    "               alcaldia_hechos == 'GUSTAVO A MADERO' ~ 9005,\n",
    "               alcaldia_hechos == 'IZTACALCO' ~ 9006,\n",
    "               alcaldia_hechos == 'IZTAPALAPA' ~ 9007,\n",
    "               alcaldia_hechos == 'LA MAGDALENA CONTRERAS' ~ 9008,\n",
    "               alcaldia_hechos == 'MIGUEL HIDALGO' ~ 9016,\n",
    "               alcaldia_hechos == 'MILPA ALTA' ~ 9009,\n",
    "               alcaldia_hechos == 'TLAHUAC' ~ 9011,\n",
    "               alcaldia_hechos == 'TLALPAN' ~ 9012,\n",
    "               alcaldia_hechos == 'VENUSTIANO CARRANZA' ~ 9017,\n",
    "               alcaldia_hechos == 'XOCHIMILCO' ~ 9013)) %>%\n",
    "    select(CVE_MUN, año, mes, alcaldia_hechos,categoria_delito)"
   ]
  },
  {
   "cell_type": "code",
   "execution_count": 176,
   "metadata": {},
   "outputs": [
    {
     "data": {
      "text/html": [
       "<table>\n",
       "<caption>A grouped_df: 6 × 4</caption>\n",
       "<thead>\n",
       "\t<tr><th scope=col>año</th><th scope=col>mes</th><th scope=col>Alcaldía</th><th scope=col>Delitos</th></tr>\n",
       "\t<tr><th scope=col>&lt;fct&gt;</th><th scope=col>&lt;fct&gt;</th><th scope=col>&lt;fct&gt;</th><th scope=col>&lt;int&gt;</th></tr>\n",
       "</thead>\n",
       "<tbody>\n",
       "\t<tr><td>2018</td><td>October</td><td>CUAUHTEMOC</td><td>3513</td></tr>\n",
       "\t<tr><td>2018</td><td>May    </td><td>CUAUHTEMOC</td><td>3349</td></tr>\n",
       "\t<tr><td>2018</td><td>August </td><td>CUAUHTEMOC</td><td>3314</td></tr>\n",
       "\t<tr><td>2018</td><td>April  </td><td>CUAUHTEMOC</td><td>3273</td></tr>\n",
       "\t<tr><td>2018</td><td>June   </td><td>CUAUHTEMOC</td><td>3249</td></tr>\n",
       "\t<tr><td>2018</td><td>July   </td><td>CUAUHTEMOC</td><td>3244</td></tr>\n",
       "</tbody>\n",
       "</table>\n"
      ],
      "text/latex": [
       "A grouped\\_df: 6 × 4\n",
       "\\begin{tabular}{llll}\n",
       " año & mes & Alcaldía & Delitos\\\\\n",
       " <fct> & <fct> & <fct> & <int>\\\\\n",
       "\\hline\n",
       "\t 2018 & October & CUAUHTEMOC & 3513\\\\\n",
       "\t 2018 & May     & CUAUHTEMOC & 3349\\\\\n",
       "\t 2018 & August  & CUAUHTEMOC & 3314\\\\\n",
       "\t 2018 & April   & CUAUHTEMOC & 3273\\\\\n",
       "\t 2018 & June    & CUAUHTEMOC & 3249\\\\\n",
       "\t 2018 & July    & CUAUHTEMOC & 3244\\\\\n",
       "\\end{tabular}\n"
      ],
      "text/markdown": [
       "\n",
       "A grouped_df: 6 × 4\n",
       "\n",
       "| año &lt;fct&gt; | mes &lt;fct&gt; | Alcaldía &lt;fct&gt; | Delitos &lt;int&gt; |\n",
       "|---|---|---|---|\n",
       "| 2018 | October | CUAUHTEMOC | 3513 |\n",
       "| 2018 | May     | CUAUHTEMOC | 3349 |\n",
       "| 2018 | August  | CUAUHTEMOC | 3314 |\n",
       "| 2018 | April   | CUAUHTEMOC | 3273 |\n",
       "| 2018 | June    | CUAUHTEMOC | 3249 |\n",
       "| 2018 | July    | CUAUHTEMOC | 3244 |\n",
       "\n"
      ],
      "text/plain": [
       "  año  mes     Alcaldía   Delitos\n",
       "1 2018 October CUAUHTEMOC 3513   \n",
       "2 2018 May     CUAUHTEMOC 3349   \n",
       "3 2018 August  CUAUHTEMOC 3314   \n",
       "4 2018 April   CUAUHTEMOC 3273   \n",
       "5 2018 June    CUAUHTEMOC 3249   \n",
       "6 2018 July    CUAUHTEMOC 3244   "
      ]
     },
     "metadata": {},
     "output_type": "display_data"
    }
   ],
   "source": [
    "denuncias <- delitos %>%\n",
    "    group_by(año, mes, alcaldia_hechos) %>%\n",
    "    tally(sort = TRUE) %>%\n",
    "    rename(`Alcaldía` = alcaldia_hechos, `Delitos` = n)\n",
    "head(denuncias)"
   ]
  },
  {
   "cell_type": "code",
   "execution_count": 191,
   "metadata": {},
   "outputs": [
    {
     "name": "stderr",
     "output_type": "stream",
     "text": [
      "`summarise()` ungrouping output (override with `.groups` argument)\n",
      "\n"
     ]
    },
    {
     "data": {
      "text/html": [
       "<table>\n",
       "<caption>A tibble: 6 × 2</caption>\n",
       "<thead>\n",
       "\t<tr><th scope=col>Alcaldía</th><th scope=col>lambda</th></tr>\n",
       "\t<tr><th scope=col>&lt;fct&gt;</th><th scope=col>&lt;dbl&gt;</th></tr>\n",
       "</thead>\n",
       "<tbody>\n",
       "\t<tr><td>ALVARO OBREGON       </td><td>1246.208</td></tr>\n",
       "\t<tr><td>AZCAPOTZALCO         </td><td> 955.500</td></tr>\n",
       "\t<tr><td>BENITO JUAREZ        </td><td>1719.125</td></tr>\n",
       "\t<tr><td>COYOACAN             </td><td>1291.125</td></tr>\n",
       "\t<tr><td>CUAJIMALPA DE MORELOS</td><td> 264.000</td></tr>\n",
       "\t<tr><td>CUAUHTEMOC           </td><td>3046.417</td></tr>\n",
       "</tbody>\n",
       "</table>\n"
      ],
      "text/latex": [
       "A tibble: 6 × 2\n",
       "\\begin{tabular}{ll}\n",
       " Alcaldía & lambda\\\\\n",
       " <fct> & <dbl>\\\\\n",
       "\\hline\n",
       "\t ALVARO OBREGON        & 1246.208\\\\\n",
       "\t AZCAPOTZALCO          &  955.500\\\\\n",
       "\t BENITO JUAREZ         & 1719.125\\\\\n",
       "\t COYOACAN              & 1291.125\\\\\n",
       "\t CUAJIMALPA DE MORELOS &  264.000\\\\\n",
       "\t CUAUHTEMOC            & 3046.417\\\\\n",
       "\\end{tabular}\n"
      ],
      "text/markdown": [
       "\n",
       "A tibble: 6 × 2\n",
       "\n",
       "| Alcaldía &lt;fct&gt; | lambda &lt;dbl&gt; |\n",
       "|---|---|\n",
       "| ALVARO OBREGON        | 1246.208 |\n",
       "| AZCAPOTZALCO          |  955.500 |\n",
       "| BENITO JUAREZ         | 1719.125 |\n",
       "| COYOACAN              | 1291.125 |\n",
       "| CUAJIMALPA DE MORELOS |  264.000 |\n",
       "| CUAUHTEMOC            | 3046.417 |\n",
       "\n"
      ],
      "text/plain": [
       "  Alcaldía              lambda  \n",
       "1 ALVARO OBREGON        1246.208\n",
       "2 AZCAPOTZALCO           955.500\n",
       "3 BENITO JUAREZ         1719.125\n",
       "4 COYOACAN              1291.125\n",
       "5 CUAJIMALPA DE MORELOS  264.000\n",
       "6 CUAUHTEMOC            3046.417"
      ]
     },
     "metadata": {},
     "output_type": "display_data"
    }
   ],
   "source": [
    "denuncias2 <- denuncias %>%\n",
    "    filter(año != 2019) %>%\n",
    "    group_by(Alcaldía) %>%\n",
    "    summarise(lambda = mean(Delitos))\n",
    "head(denuncias2)"
   ]
  },
  {
   "cell_type": "code",
   "execution_count": 178,
   "metadata": {},
   "outputs": [],
   "source": [
    "alpha.i <- denuncias2$lambda\n",
    "beta.i <- rep(1,nrow(denuncias2))"
   ]
  },
  {
   "cell_type": "code",
   "execution_count": 197,
   "metadata": {},
   "outputs": [
    {
     "name": "stderr",
     "output_type": "stream",
     "text": [
      "`summarise()` ungrouping output (override with `.groups` argument)\n",
      "\n"
     ]
    },
    {
     "data": {
      "text/html": [
       "<table>\n",
       "<caption>A tibble: 6 × 3</caption>\n",
       "<thead>\n",
       "\t<tr><th scope=col>Alcaldía</th><th scope=col>x</th><th scope=col>n</th></tr>\n",
       "\t<tr><th scope=col>&lt;fct&gt;</th><th scope=col>&lt;int&gt;</th><th scope=col>&lt;int&gt;</th></tr>\n",
       "</thead>\n",
       "<tbody>\n",
       "\t<tr><td>ALVARO OBREGON       </td><td> 7761</td><td>6</td></tr>\n",
       "\t<tr><td>AZCAPOTZALCO         </td><td> 4856</td><td>6</td></tr>\n",
       "\t<tr><td>BENITO JUAREZ        </td><td> 9127</td><td>6</td></tr>\n",
       "\t<tr><td>COYOACAN             </td><td> 6848</td><td>6</td></tr>\n",
       "\t<tr><td>CUAJIMALPA DE MORELOS</td><td> 1628</td><td>6</td></tr>\n",
       "\t<tr><td>CUAUHTEMOC           </td><td>15902</td><td>6</td></tr>\n",
       "</tbody>\n",
       "</table>\n"
      ],
      "text/latex": [
       "A tibble: 6 × 3\n",
       "\\begin{tabular}{lll}\n",
       " Alcaldía & x & n\\\\\n",
       " <fct> & <int> & <int>\\\\\n",
       "\\hline\n",
       "\t ALVARO OBREGON        &  7761 & 6\\\\\n",
       "\t AZCAPOTZALCO          &  4856 & 6\\\\\n",
       "\t BENITO JUAREZ         &  9127 & 6\\\\\n",
       "\t COYOACAN              &  6848 & 6\\\\\n",
       "\t CUAJIMALPA DE MORELOS &  1628 & 6\\\\\n",
       "\t CUAUHTEMOC            & 15902 & 6\\\\\n",
       "\\end{tabular}\n"
      ],
      "text/markdown": [
       "\n",
       "A tibble: 6 × 3\n",
       "\n",
       "| Alcaldía &lt;fct&gt; | x &lt;int&gt; | n &lt;int&gt; |\n",
       "|---|---|---|\n",
       "| ALVARO OBREGON        |  7761 | 6 |\n",
       "| AZCAPOTZALCO          |  4856 | 6 |\n",
       "| BENITO JUAREZ         |  9127 | 6 |\n",
       "| COYOACAN              |  6848 | 6 |\n",
       "| CUAJIMALPA DE MORELOS |  1628 | 6 |\n",
       "| CUAUHTEMOC            | 15902 | 6 |\n",
       "\n"
      ],
      "text/plain": [
       "  Alcaldía              x     n\n",
       "1 ALVARO OBREGON         7761 6\n",
       "2 AZCAPOTZALCO           4856 6\n",
       "3 BENITO JUAREZ          9127 6\n",
       "4 COYOACAN               6848 6\n",
       "5 CUAJIMALPA DE MORELOS  1628 6\n",
       "6 CUAUHTEMOC            15902 6"
      ]
     },
     "metadata": {},
     "output_type": "display_data"
    }
   ],
   "source": [
    "obs.2019 <- denuncias %>%\n",
    "    filter(año == 2019) %>%\n",
    "    group_by(Alcaldía) %>%\n",
    "    summarise(x = sum(Delitos),\n",
    "              n = n())\n",
    "head(obs.2019)"
   ]
  },
  {
   "cell_type": "code",
   "execution_count": 198,
   "metadata": {},
   "outputs": [],
   "source": [
    "alpha.f <- alpha.i + obs.2019$x\n",
    "beta.f <- beta.i + obs.2019$n"
   ]
  },
  {
   "cell_type": "code",
   "execution_count": 213,
   "metadata": {},
   "outputs": [
    {
     "data": {
      "image/png": "[encoded data removed]",
      "text/plain": [
       "Plot with title “Distribución para lambda de la alcaldía 1 (negra: inicial; roja: final)”"
      ]
     },
     "metadata": {
      "image/png": {
       "height": 420,
       "width": 420
      }
     },
     "output_type": "display_data"
    }
   ],
   "source": [
    "curve(dgamma(theta, shape = alpha.f[1], rate = beta.f[1]), from = 1000, to = 1500, col = 2, lty = 2, xname = 'theta')\n",
    "curve(dgamma(theta, shape = alpha.i[1], rate = beta.i[1]), add = TRUE, xname = 'theta', ylab = 'Density')\n",
    "title(main=paste0('Distribución para lambda de la alcaldía 1 (negra: inicial; roja: final)' ), cex.main=0.75)\n",
    "lambda.e <- alpha.f/beta.f"
   ]
  },
  {
   "cell_type": "code",
   "execution_count": 200,
   "metadata": {},
   "outputs": [
    {
     "name": "stderr",
     "output_type": "stream",
     "text": [
      "`summarise()` ungrouping output (override with `.groups` argument)\n",
      "\n"
     ]
    },
    {
     "data": {
      "text/html": [
       "<table>\n",
       "<caption>A data.frame: 6 × 3</caption>\n",
       "<thead>\n",
       "\t<tr><th></th><th scope=col>Alcaldía</th><th scope=col>Mean</th><th scope=col>Lambda</th></tr>\n",
       "\t<tr><th></th><th scope=col>&lt;fct&gt;</th><th scope=col>&lt;dbl&gt;</th><th scope=col>&lt;dbl&gt;</th></tr>\n",
       "</thead>\n",
       "<tbody>\n",
       "\t<tr><th scope=row>1</th><td>ALVARO OBREGON       </td><td>1255.6667</td><td>1286.7440</td></tr>\n",
       "\t<tr><th scope=row>2</th><td>AZCAPOTZALCO         </td><td> 926.2667</td><td> 830.2143</td></tr>\n",
       "\t<tr><th scope=row>3</th><td>BENITO JUAREZ        </td><td>1679.5333</td><td>1549.4464</td></tr>\n",
       "\t<tr><th scope=row>4</th><td>COYOACAN             </td><td>1261.1667</td><td>1162.7321</td></tr>\n",
       "\t<tr><th scope=row>5</th><td>CUAJIMALPA DE MORELOS</td><td> 265.4667</td><td> 270.2857</td></tr>\n",
       "\t<tr><th scope=row>6</th><td>CUAUHTEMOC           </td><td>2967.2000</td><td>2706.9167</td></tr>\n",
       "</tbody>\n",
       "</table>\n"
      ],
      "text/latex": [
       "A data.frame: 6 × 3\n",
       "\\begin{tabular}{r|lll}\n",
       "  & Alcaldía & Mean & Lambda\\\\\n",
       "  & <fct> & <dbl> & <dbl>\\\\\n",
       "\\hline\n",
       "\t1 & ALVARO OBREGON        & 1255.6667 & 1286.7440\\\\\n",
       "\t2 & AZCAPOTZALCO          &  926.2667 &  830.2143\\\\\n",
       "\t3 & BENITO JUAREZ         & 1679.5333 & 1549.4464\\\\\n",
       "\t4 & COYOACAN              & 1261.1667 & 1162.7321\\\\\n",
       "\t5 & CUAJIMALPA DE MORELOS &  265.4667 &  270.2857\\\\\n",
       "\t6 & CUAUHTEMOC            & 2967.2000 & 2706.9167\\\\\n",
       "\\end{tabular}\n"
      ],
      "text/markdown": [
       "\n",
       "A data.frame: 6 × 3\n",
       "\n",
       "| <!--/--> | Alcaldía &lt;fct&gt; | Mean &lt;dbl&gt; | Lambda &lt;dbl&gt; |\n",
       "|---|---|---|---|\n",
       "| 1 | ALVARO OBREGON        | 1255.6667 | 1286.7440 |\n",
       "| 2 | AZCAPOTZALCO          |  926.2667 |  830.2143 |\n",
       "| 3 | BENITO JUAREZ         | 1679.5333 | 1549.4464 |\n",
       "| 4 | COYOACAN              | 1261.1667 | 1162.7321 |\n",
       "| 5 | CUAJIMALPA DE MORELOS |  265.4667 |  270.2857 |\n",
       "| 6 | CUAUHTEMOC            | 2967.2000 | 2706.9167 |\n",
       "\n"
      ],
      "text/plain": [
       "  Alcaldía              Mean      Lambda   \n",
       "1 ALVARO OBREGON        1255.6667 1286.7440\n",
       "2 AZCAPOTZALCO           926.2667  830.2143\n",
       "3 BENITO JUAREZ         1679.5333 1549.4464\n",
       "4 COYOACAN              1261.1667 1162.7321\n",
       "5 CUAJIMALPA DE MORELOS  265.4667  270.2857\n",
       "6 CUAUHTEMOC            2967.2000 2706.9167"
      ]
     },
     "metadata": {},
     "output_type": "display_data"
    }
   ],
   "source": [
    "res.alc <- denuncias %>%\n",
    "    group_by(Alcaldía) %>%\n",
    "    summarise(Mean = mean(Delitos))\n",
    "res.alc <- cbind(res.alc, Lambda = lambda.e)\n",
    "head(res.alc)"
   ]
  },
  {
   "cell_type": "code",
   "execution_count": 207,
   "metadata": {},
   "outputs": [
    {
     "name": "stderr",
     "output_type": "stream",
     "text": [
      "`summarise()` ungrouping output (override with `.groups` argument)\n",
      "\n"
     ]
    },
    {
     "data": {
      "text/html": [
       "<table>\n",
       "<caption>A tibble: 6 × 2</caption>\n",
       "<thead>\n",
       "\t<tr><th scope=col>mes</th><th scope=col>lambda</th></tr>\n",
       "\t<tr><th scope=col>&lt;fct&gt;</th><th scope=col>&lt;dbl&gt;</th></tr>\n",
       "</thead>\n",
       "<tbody>\n",
       "\t<tr><td>January </td><td>1037.3750</td></tr>\n",
       "\t<tr><td>February</td><td> 977.6875</td></tr>\n",
       "\t<tr><td>March   </td><td>1110.0625</td></tr>\n",
       "\t<tr><td>April   </td><td>1028.0000</td></tr>\n",
       "\t<tr><td>May     </td><td>1181.0625</td></tr>\n",
       "\t<tr><td>June    </td><td>1158.8750</td></tr>\n",
       "</tbody>\n",
       "</table>\n"
      ],
      "text/latex": [
       "A tibble: 6 × 2\n",
       "\\begin{tabular}{ll}\n",
       " mes & lambda\\\\\n",
       " <fct> & <dbl>\\\\\n",
       "\\hline\n",
       "\t January  & 1037.3750\\\\\n",
       "\t February &  977.6875\\\\\n",
       "\t March    & 1110.0625\\\\\n",
       "\t April    & 1028.0000\\\\\n",
       "\t May      & 1181.0625\\\\\n",
       "\t June     & 1158.8750\\\\\n",
       "\\end{tabular}\n"
      ],
      "text/markdown": [
       "\n",
       "A tibble: 6 × 2\n",
       "\n",
       "| mes &lt;fct&gt; | lambda &lt;dbl&gt; |\n",
       "|---|---|\n",
       "| January  | 1037.3750 |\n",
       "| February |  977.6875 |\n",
       "| March    | 1110.0625 |\n",
       "| April    | 1028.0000 |\n",
       "| May      | 1181.0625 |\n",
       "| June     | 1158.8750 |\n",
       "\n"
      ],
      "text/plain": [
       "  mes      lambda   \n",
       "1 January  1037.3750\n",
       "2 February  977.6875\n",
       "3 March    1110.0625\n",
       "4 April    1028.0000\n",
       "5 May      1181.0625\n",
       "6 June     1158.8750"
      ]
     },
     "metadata": {},
     "output_type": "display_data"
    }
   ],
   "source": [
    "denuncias3 <- denuncias %>%\n",
    "    filter(año == 2017) %>%\n",
    "    group_by(mes) %>%\n",
    "    summarise(lambda = mean(Delitos))\n",
    "head(denuncias3)"
   ]
  },
  {
   "cell_type": "code",
   "execution_count": 208,
   "metadata": {},
   "outputs": [],
   "source": [
    "alpha.i.m <- denuncias3$lambda\n",
    "beta.i.m <- rep(1,nrow(denuncias3))"
   ]
  },
  {
   "cell_type": "code",
   "execution_count": 211,
   "metadata": {},
   "outputs": [
    {
     "name": "stderr",
     "output_type": "stream",
     "text": [
      "`summarise()` ungrouping output (override with `.groups` argument)\n",
      "\n"
     ]
    },
    {
     "data": {
      "text/html": [
       "<table>\n",
       "<caption>A tibble: 6 × 3</caption>\n",
       "<thead>\n",
       "\t<tr><th scope=col>mes</th><th scope=col>x</th><th scope=col>n</th></tr>\n",
       "\t<tr><th scope=col>&lt;fct&gt;</th><th scope=col>&lt;int&gt;</th><th scope=col>&lt;int&gt;</th></tr>\n",
       "</thead>\n",
       "<tbody>\n",
       "\t<tr><td>January </td><td>33436</td><td>32</td></tr>\n",
       "\t<tr><td>February</td><td>37265</td><td>32</td></tr>\n",
       "\t<tr><td>March   </td><td>40177</td><td>32</td></tr>\n",
       "\t<tr><td>April   </td><td>37879</td><td>32</td></tr>\n",
       "\t<tr><td>May     </td><td>40175</td><td>32</td></tr>\n",
       "\t<tr><td>June    </td><td>35086</td><td>32</td></tr>\n",
       "</tbody>\n",
       "</table>\n"
      ],
      "text/latex": [
       "A tibble: 6 × 3\n",
       "\\begin{tabular}{lll}\n",
       " mes & x & n\\\\\n",
       " <fct> & <int> & <int>\\\\\n",
       "\\hline\n",
       "\t January  & 33436 & 32\\\\\n",
       "\t February & 37265 & 32\\\\\n",
       "\t March    & 40177 & 32\\\\\n",
       "\t April    & 37879 & 32\\\\\n",
       "\t May      & 40175 & 32\\\\\n",
       "\t June     & 35086 & 32\\\\\n",
       "\\end{tabular}\n"
      ],
      "text/markdown": [
       "\n",
       "A tibble: 6 × 3\n",
       "\n",
       "| mes &lt;fct&gt; | x &lt;int&gt; | n &lt;int&gt; |\n",
       "|---|---|---|\n",
       "| January  | 33436 | 32 |\n",
       "| February | 37265 | 32 |\n",
       "| March    | 40177 | 32 |\n",
       "| April    | 37879 | 32 |\n",
       "| May      | 40175 | 32 |\n",
       "| June     | 35086 | 32 |\n",
       "\n"
      ],
      "text/plain": [
       "  mes      x     n \n",
       "1 January  33436 32\n",
       "2 February 37265 32\n",
       "3 March    40177 32\n",
       "4 April    37879 32\n",
       "5 May      40175 32\n",
       "6 June     35086 32"
      ]
     },
     "metadata": {},
     "output_type": "display_data"
    }
   ],
   "source": [
    "obs.2019.m <- denuncias %>%\n",
    "    filter(año != 2017) %>%\n",
    "    group_by(mes) %>%\n",
    "    summarise(x = sum(Delitos),\n",
    "              n = n())\n",
    "head(obs.2019.m)"
   ]
  },
  {
   "cell_type": "code",
   "execution_count": 212,
   "metadata": {},
   "outputs": [],
   "source": [
    "alpha.f.m <- alpha.i.m + obs.2019.m$x\n",
    "beta.f.m <- beta.i.m + obs.2019.m$n"
   ]
  },
  {
   "cell_type": "code",
   "execution_count": 214,
   "metadata": {},
   "outputs": [
    {
     "data": {
      "image/png": "[encoded data removed]",
      "text/plain": [
       "Plot with title “Distribución para lambda para Enero (negra: inicial; roja: final)”"
      ]
     },
     "metadata": {
      "image/png": {
       "height": 420,
       "width": 420
      }
     },
     "output_type": "display_data"
    }
   ],
   "source": [
    "curve(dgamma(theta, shape = alpha.f.m[1], rate = beta.f.m[1]), from = 1000, to = 1500, col = 2, lty = 2, xname = 'theta')\n",
    "curve(dgamma(theta, shape = alpha.i.m[1], rate = beta.i.m[1]), add = TRUE, xname = 'theta', ylab = 'Density')\n",
    "title(main=paste0('Distribución para lambda para Enero (negra: inicial; roja: final)' ), cex.main=0.75)\n",
    "lambda.e.m <- alpha.f.m/beta.f.m"
   ]
  },
  {
   "cell_type": "code",
   "execution_count": 216,
   "metadata": {},
   "outputs": [
    {
     "name": "stderr",
     "output_type": "stream",
     "text": [
      "`summarise()` ungrouping output (override with `.groups` argument)\n",
      "\n"
     ]
    },
    {
     "data": {
      "text/html": [
       "<table>\n",
       "<caption>A data.frame: 6 × 3</caption>\n",
       "<thead>\n",
       "\t<tr><th></th><th scope=col>mes</th><th scope=col>Mean</th><th scope=col>Lambda</th></tr>\n",
       "\t<tr><th></th><th scope=col>&lt;fct&gt;</th><th scope=col>&lt;dbl&gt;</th><th scope=col>&lt;dbl&gt;</th></tr>\n",
       "</thead>\n",
       "<tbody>\n",
       "\t<tr><th scope=row>1</th><td>January </td><td>1042.375</td><td>1044.648</td></tr>\n",
       "\t<tr><th scope=row>2</th><td>February</td><td>1102.250</td><td>1158.869</td></tr>\n",
       "\t<tr><th scope=row>3</th><td>March   </td><td>1207.042</td><td>1251.123</td></tr>\n",
       "\t<tr><th scope=row>4</th><td>April   </td><td>1131.812</td><td>1179.000</td></tr>\n",
       "\t<tr><th scope=row>5</th><td>May     </td><td>1230.667</td><td>1253.214</td></tr>\n",
       "\t<tr><th scope=row>6</th><td>June    </td><td>1117.250</td><td>1098.330</td></tr>\n",
       "</tbody>\n",
       "</table>\n"
      ],
      "text/latex": [
       "A data.frame: 6 × 3\n",
       "\\begin{tabular}{r|lll}\n",
       "  & mes & Mean & Lambda\\\\\n",
       "  & <fct> & <dbl> & <dbl>\\\\\n",
       "\\hline\n",
       "\t1 & January  & 1042.375 & 1044.648\\\\\n",
       "\t2 & February & 1102.250 & 1158.869\\\\\n",
       "\t3 & March    & 1207.042 & 1251.123\\\\\n",
       "\t4 & April    & 1131.812 & 1179.000\\\\\n",
       "\t5 & May      & 1230.667 & 1253.214\\\\\n",
       "\t6 & June     & 1117.250 & 1098.330\\\\\n",
       "\\end{tabular}\n"
      ],
      "text/markdown": [
       "\n",
       "A data.frame: 6 × 3\n",
       "\n",
       "| <!--/--> | mes &lt;fct&gt; | Mean &lt;dbl&gt; | Lambda &lt;dbl&gt; |\n",
       "|---|---|---|---|\n",
       "| 1 | January  | 1042.375 | 1044.648 |\n",
       "| 2 | February | 1102.250 | 1158.869 |\n",
       "| 3 | March    | 1207.042 | 1251.123 |\n",
       "| 4 | April    | 1131.812 | 1179.000 |\n",
       "| 5 | May      | 1230.667 | 1253.214 |\n",
       "| 6 | June     | 1117.250 | 1098.330 |\n",
       "\n"
      ],
      "text/plain": [
       "  mes      Mean     Lambda  \n",
       "1 January  1042.375 1044.648\n",
       "2 February 1102.250 1158.869\n",
       "3 March    1207.042 1251.123\n",
       "4 April    1131.812 1179.000\n",
       "5 May      1230.667 1253.214\n",
       "6 June     1117.250 1098.330"
      ]
     },
     "metadata": {},
     "output_type": "display_data"
    }
   ],
   "source": [
    "res.m <- denuncias %>%\n",
    "    group_by(mes) %>%\n",
    "    summarise(Mean = mean(Delitos))\n",
    "res.m <- cbind(res.m, Lambda = lambda.e.m)\n",
    "head(res.m)"
   ]
  },
  {
   "cell_type": "code",
   "execution_count": 160,
   "metadata": {},
   "outputs": [
    {
     "data": {
      "text/html": [
       "<style>\n",
       ".list-inline {list-style: none; margin:0; padding: 0}\n",
       ".list-inline>li {display: inline-block}\n",
       ".list-inline>li:not(:last-child)::after {content: \"\\00b7\"; padding: 0 .5ex}\n",
       "</style>\n",
       "<ol class=list-inline><li>9007.20833333333</li><li>5811.5</li><li>10846.125</li><li>8139.125</li><li>1892</li><li>18948.4166666667</li><li>12946.4583333333</li><li>5664.08333333333</li><li>19111.125</li><li>2057.875</li><li>8291.25</li><li>809.541666666667</li><li>2916.66666666667</li><li>7187.25</li><li>7421.58333333333</li><li>3814.20833333333</li></ol>\n"
      ],
      "text/latex": [
       "\\begin{enumerate*}\n",
       "\\item 9007.20833333333\n",
       "\\item 5811.5\n",
       "\\item 10846.125\n",
       "\\item 8139.125\n",
       "\\item 1892\n",
       "\\item 18948.4166666667\n",
       "\\item 12946.4583333333\n",
       "\\item 5664.08333333333\n",
       "\\item 19111.125\n",
       "\\item 2057.875\n",
       "\\item 8291.25\n",
       "\\item 809.541666666667\n",
       "\\item 2916.66666666667\n",
       "\\item 7187.25\n",
       "\\item 7421.58333333333\n",
       "\\item 3814.20833333333\n",
       "\\end{enumerate*}\n"
      ],
      "text/markdown": [
       "1. 9007.20833333333\n",
       "2. 5811.5\n",
       "3. 10846.125\n",
       "4. 8139.125\n",
       "5. 1892\n",
       "6. 18948.4166666667\n",
       "7. 12946.4583333333\n",
       "8. 5664.08333333333\n",
       "9. 19111.125\n",
       "10. 2057.875\n",
       "11. 8291.25\n",
       "12. 809.541666666667\n",
       "13. 2916.66666666667\n",
       "14. 7187.25\n",
       "15. 7421.58333333333\n",
       "16. 3814.20833333333\n",
       "\n",
       "\n"
      ],
      "text/plain": [
       " [1]  9007.2083  5811.5000 10846.1250  8139.1250  1892.0000 18948.4167\n",
       " [7] 12946.4583  5664.0833 19111.1250  2057.8750  8291.2500   809.5417\n",
       "[13]  2916.6667  7187.2500  7421.5833  3814.2083"
      ]
     },
     "metadata": {},
     "output_type": "display_data"
    },
    {
     "data": {
      "text/html": [
       "<style>\n",
       ".list-inline {list-style: none; margin:0; padding: 0}\n",
       ".list-inline>li {display: inline-block}\n",
       ".list-inline>li:not(:last-child)::after {content: \"\\00b7\"; padding: 0 .5ex}\n",
       "</style>\n",
       "<ol class=list-inline><li>0.875</li><li>0.875</li><li>0.875</li><li>0.875</li><li>0.875</li><li>0.875</li><li>0.875</li><li>0.875</li><li>0.875</li><li>0.875</li><li>0.875</li><li>0.875</li><li>0.875</li><li>0.875</li><li>0.875</li><li>0.875</li></ol>\n"
      ],
      "text/latex": [
       "\\begin{enumerate*}\n",
       "\\item 0.875\n",
       "\\item 0.875\n",
       "\\item 0.875\n",
       "\\item 0.875\n",
       "\\item 0.875\n",
       "\\item 0.875\n",
       "\\item 0.875\n",
       "\\item 0.875\n",
       "\\item 0.875\n",
       "\\item 0.875\n",
       "\\item 0.875\n",
       "\\item 0.875\n",
       "\\item 0.875\n",
       "\\item 0.875\n",
       "\\item 0.875\n",
       "\\item 0.875\n",
       "\\end{enumerate*}\n"
      ],
      "text/markdown": [
       "1. 0.875\n",
       "2. 0.875\n",
       "3. 0.875\n",
       "4. 0.875\n",
       "5. 0.875\n",
       "6. 0.875\n",
       "7. 0.875\n",
       "8. 0.875\n",
       "9. 0.875\n",
       "10. 0.875\n",
       "11. 0.875\n",
       "12. 0.875\n",
       "13. 0.875\n",
       "14. 0.875\n",
       "15. 0.875\n",
       "16. 0.875\n",
       "\n",
       "\n"
      ],
      "text/plain": [
       " [1] 0.875 0.875 0.875 0.875 0.875 0.875 0.875 0.875 0.875 0.875 0.875 0.875\n",
       "[13] 0.875 0.875 0.875 0.875"
      ]
     },
     "metadata": {},
     "output_type": "display_data"
    },
    {
     "data": {
      "text/html": [
       "1212"
      ],
      "text/latex": [
       "1212"
      ],
      "text/markdown": [
       "1212"
      ],
      "text/plain": [
       "[1] 1212"
      ]
     },
     "metadata": {},
     "output_type": "display_data"
    },
    {
     "data": {
      "text/html": [
       "1363"
      ],
      "text/latex": [
       "1363"
      ],
      "text/markdown": [
       "1363"
      ],
      "text/plain": [
       "[1] 1363"
      ]
     },
     "metadata": {},
     "output_type": "display_data"
    },
    {
     "data": {
      "text/html": [
       "63050.4583333333"
      ],
      "text/latex": [
       "63050.4583333333"
      ],
      "text/markdown": [
       "63050.4583333333"
      ],
      "text/plain": [
       "[1] 63050.46"
      ]
     },
     "metadata": {},
     "output_type": "display_data"
    }
   ],
   "source": [
    "(n.1 <- alpha.f)\n",
    "(p.1 <- beta.f/(beta.f + 1))\n",
    "\n",
    "qnbinom(.025,n.1[1],p.1[1])\n",
    "qnbinom(.975,n.1[1],p.1[1])\n",
    " \n",
    "(p.1[1]*n.1[1])/(1-p.1[1])"
   ]
  },
  {
   "cell_type": "code",
   "execution_count": 165,
   "metadata": {},
   "outputs": [
    {
     "data": {
      "text/html": [
       "<table>\n",
       "<caption>A tibble: 16 × 6</caption>\n",
       "<thead>\n",
       "\t<tr><th scope=col>(p.1 * n.1)/(1 - p.1)</th><th scope=col>(p.1 * n.1)/(1 - p.1)</th><th scope=col>(p.1 * n.1)/(1 - p.1)</th><th scope=col>(p.1 * n.1)/(1 - p.1)</th><th scope=col>(p.1 * n.1)/(1 - p.1)</th><th scope=col>(p.1 * n.1)/(1 - p.1)</th></tr>\n",
       "\t<tr><th scope=col>&lt;dbl&gt;</th><th scope=col>&lt;dbl&gt;</th><th scope=col>&lt;dbl&gt;</th><th scope=col>&lt;dbl&gt;</th><th scope=col>&lt;dbl&gt;</th><th scope=col>&lt;dbl&gt;</th></tr>\n",
       "</thead>\n",
       "<tbody>\n",
       "\t<tr><td> 63050.458</td><td>144115.33</td><td>432346</td><td>1297038</td><td>3891114</td><td>11673342</td></tr>\n",
       "\t<tr><td> 40680.500</td><td> 92984.00</td><td>278952</td><td> 836856</td><td>2510568</td><td> 7531704</td></tr>\n",
       "\t<tr><td> 75922.875</td><td>173538.00</td><td>520614</td><td>1561842</td><td>4685526</td><td>14056578</td></tr>\n",
       "\t<tr><td> 56973.875</td><td>130226.00</td><td>390678</td><td>1172034</td><td>3516102</td><td>10548306</td></tr>\n",
       "\t<tr><td> 13244.000</td><td> 30272.00</td><td> 90816</td><td> 272448</td><td> 817344</td><td> 2452032</td></tr>\n",
       "\t<tr><td>132638.917</td><td>303174.67</td><td>909524</td><td>2728572</td><td>8185716</td><td>24557148</td></tr>\n",
       "\t<tr><td> 90625.208</td><td>207143.33</td><td>621430</td><td>1864290</td><td>5592870</td><td>16778610</td></tr>\n",
       "\t<tr><td> 39648.583</td><td> 90625.33</td><td>271876</td><td> 815628</td><td>2446884</td><td> 7340652</td></tr>\n",
       "\t<tr><td>133777.875</td><td>305778.00</td><td>917334</td><td>2752002</td><td>8256006</td><td>24768018</td></tr>\n",
       "\t<tr><td> 14405.125</td><td> 32926.00</td><td> 98778</td><td> 296334</td><td> 889002</td><td> 2667006</td></tr>\n",
       "\t<tr><td> 58038.750</td><td>132660.00</td><td>397980</td><td>1193940</td><td>3581820</td><td>10745460</td></tr>\n",
       "\t<tr><td>  5666.792</td><td> 12952.67</td><td> 38858</td><td> 116574</td><td> 349722</td><td> 1049166</td></tr>\n",
       "\t<tr><td> 20416.667</td><td> 46666.67</td><td>140000</td><td> 420000</td><td>1260000</td><td> 3780000</td></tr>\n",
       "\t<tr><td> 50310.750</td><td>114996.00</td><td>344988</td><td>1034964</td><td>3104892</td><td> 9314676</td></tr>\n",
       "\t<tr><td> 51951.083</td><td>118745.33</td><td>356236</td><td>1068708</td><td>3206124</td><td> 9618372</td></tr>\n",
       "\t<tr><td> 26699.458</td><td> 61027.33</td><td>183082</td><td> 549246</td><td>1647738</td><td> 4943214</td></tr>\n",
       "</tbody>\n",
       "</table>\n"
      ],
      "text/latex": [
       "A tibble: 16 × 6\n",
       "\\begin{tabular}{llllll}\n",
       " (p.1 * n.1)/(1 - p.1) & (p.1 * n.1)/(1 - p.1) & (p.1 * n.1)/(1 - p.1) & (p.1 * n.1)/(1 - p.1) & (p.1 * n.1)/(1 - p.1) & (p.1 * n.1)/(1 - p.1)\\\\\n",
       " <dbl> & <dbl> & <dbl> & <dbl> & <dbl> & <dbl>\\\\\n",
       "\\hline\n",
       "\t  63050.458 & 144115.33 & 432346 & 1297038 & 3891114 & 11673342\\\\\n",
       "\t  40680.500 &  92984.00 & 278952 &  836856 & 2510568 &  7531704\\\\\n",
       "\t  75922.875 & 173538.00 & 520614 & 1561842 & 4685526 & 14056578\\\\\n",
       "\t  56973.875 & 130226.00 & 390678 & 1172034 & 3516102 & 10548306\\\\\n",
       "\t  13244.000 &  30272.00 &  90816 &  272448 &  817344 &  2452032\\\\\n",
       "\t 132638.917 & 303174.67 & 909524 & 2728572 & 8185716 & 24557148\\\\\n",
       "\t  90625.208 & 207143.33 & 621430 & 1864290 & 5592870 & 16778610\\\\\n",
       "\t  39648.583 &  90625.33 & 271876 &  815628 & 2446884 &  7340652\\\\\n",
       "\t 133777.875 & 305778.00 & 917334 & 2752002 & 8256006 & 24768018\\\\\n",
       "\t  14405.125 &  32926.00 &  98778 &  296334 &  889002 &  2667006\\\\\n",
       "\t  58038.750 & 132660.00 & 397980 & 1193940 & 3581820 & 10745460\\\\\n",
       "\t   5666.792 &  12952.67 &  38858 &  116574 &  349722 &  1049166\\\\\n",
       "\t  20416.667 &  46666.67 & 140000 &  420000 & 1260000 &  3780000\\\\\n",
       "\t  50310.750 & 114996.00 & 344988 & 1034964 & 3104892 &  9314676\\\\\n",
       "\t  51951.083 & 118745.33 & 356236 & 1068708 & 3206124 &  9618372\\\\\n",
       "\t  26699.458 &  61027.33 & 183082 &  549246 & 1647738 &  4943214\\\\\n",
       "\\end{tabular}\n"
      ],
      "text/markdown": [
       "\n",
       "A tibble: 16 × 6\n",
       "\n",
       "| (p.1 * n.1)/(1 - p.1) &lt;dbl&gt; | (p.1 * n.1)/(1 - p.1) &lt;dbl&gt; | (p.1 * n.1)/(1 - p.1) &lt;dbl&gt; | (p.1 * n.1)/(1 - p.1) &lt;dbl&gt; | (p.1 * n.1)/(1 - p.1) &lt;dbl&gt; | (p.1 * n.1)/(1 - p.1) &lt;dbl&gt; |\n",
       "|---|---|---|---|---|---|\n",
       "|  63050.458 | 144115.33 | 432346 | 1297038 | 3891114 | 11673342 |\n",
       "|  40680.500 |  92984.00 | 278952 |  836856 | 2510568 |  7531704 |\n",
       "|  75922.875 | 173538.00 | 520614 | 1561842 | 4685526 | 14056578 |\n",
       "|  56973.875 | 130226.00 | 390678 | 1172034 | 3516102 | 10548306 |\n",
       "|  13244.000 |  30272.00 |  90816 |  272448 |  817344 |  2452032 |\n",
       "| 132638.917 | 303174.67 | 909524 | 2728572 | 8185716 | 24557148 |\n",
       "|  90625.208 | 207143.33 | 621430 | 1864290 | 5592870 | 16778610 |\n",
       "|  39648.583 |  90625.33 | 271876 |  815628 | 2446884 |  7340652 |\n",
       "| 133777.875 | 305778.00 | 917334 | 2752002 | 8256006 | 24768018 |\n",
       "|  14405.125 |  32926.00 |  98778 |  296334 |  889002 |  2667006 |\n",
       "|  58038.750 | 132660.00 | 397980 | 1193940 | 3581820 | 10745460 |\n",
       "|   5666.792 |  12952.67 |  38858 |  116574 |  349722 |  1049166 |\n",
       "|  20416.667 |  46666.67 | 140000 |  420000 | 1260000 |  3780000 |\n",
       "|  50310.750 | 114996.00 | 344988 | 1034964 | 3104892 |  9314676 |\n",
       "|  51951.083 | 118745.33 | 356236 | 1068708 | 3206124 |  9618372 |\n",
       "|  26699.458 |  61027.33 | 183082 |  549246 | 1647738 |  4943214 |\n",
       "\n"
      ],
      "text/plain": [
       "   (p.1 * n.1)/(1 - p.1) (p.1 * n.1)/(1 - p.1) (p.1 * n.1)/(1 - p.1)\n",
       "1   63050.458            144115.33             432346               \n",
       "2   40680.500             92984.00             278952               \n",
       "3   75922.875            173538.00             520614               \n",
       "4   56973.875            130226.00             390678               \n",
       "5   13244.000             30272.00              90816               \n",
       "6  132638.917            303174.67             909524               \n",
       "7   90625.208            207143.33             621430               \n",
       "8   39648.583             90625.33             271876               \n",
       "9  133777.875            305778.00             917334               \n",
       "10  14405.125             32926.00              98778               \n",
       "11  58038.750            132660.00             397980               \n",
       "12   5666.792             12952.67              38858               \n",
       "13  20416.667             46666.67             140000               \n",
       "14  50310.750            114996.00             344988               \n",
       "15  51951.083            118745.33             356236               \n",
       "16  26699.458             61027.33             183082               \n",
       "   (p.1 * n.1)/(1 - p.1) (p.1 * n.1)/(1 - p.1) (p.1 * n.1)/(1 - p.1)\n",
       "1  1297038               3891114               11673342             \n",
       "2   836856               2510568                7531704             \n",
       "3  1561842               4685526               14056578             \n",
       "4  1172034               3516102               10548306             \n",
       "5   272448                817344                2452032             \n",
       "6  2728572               8185716               24557148             \n",
       "7  1864290               5592870               16778610             \n",
       "8   815628               2446884                7340652             \n",
       "9  2752002               8256006               24768018             \n",
       "10  296334                889002                2667006             \n",
       "11 1193940               3581820               10745460             \n",
       "12  116574                349722                1049166             \n",
       "13  420000               1260000                3780000             \n",
       "14 1034964               3104892                9314676             \n",
       "15 1068708               3206124                9618372             \n",
       "16  549246               1647738                4943214             "
      ]
     },
     "metadata": {},
     "output_type": "display_data"
    }
   ],
   "source": [
    "n <- data_frame((p.1*n.1)/(1-p.1))\n",
    "#LI <- data_frame(qnbinom(.025,alpha.f,beta.f))\n",
    "#LS <- data_frame(qnbinom(.975,alpha.f,beta.f))\n",
    "alpha <- alpha.f\n",
    "beta <- beta.f\n",
    "\n",
    "\n",
    "for(i in 2:6){\n",
    "    alpha <- alpha + n[i-1]\n",
    "    beta <- beta.i + 1\n",
    "    r <- alpha\n",
    "    p <- beta/(beta + 1)\n",
    "    n[,i] <- (p*r)/(1-p)\n",
    "#    LI[,i] <- qnbinom(.025,alpha,beta)\n",
    "#    LS[,i] <- qnbinom(.975,alpha,beta)\n",
    "}\n",
    "n"
   ]
  }
 ],
 "metadata": {
  "kernelspec": {
   "display_name": "R",
   "language": "R",
   "name": "ir"
  },
  "language_info": {
   "codemirror_mode": "r",
   "file_extension": ".r",
   "mimetype": "text/x-r-source",
   "name": "R",
   "pygments_lexer": "r",
   "version": "3.6.3"
  }
 },
 "nbformat": 4,
 "nbformat_minor": 4
}
